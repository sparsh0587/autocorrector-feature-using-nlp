{
 "cells": [
  {
   "cell_type": "code",
   "execution_count": 1,
   "id": "de5e9518-276e-4d4c-a446-e118af6a79af",
   "metadata": {},
   "outputs": [
    {
     "name": "stderr",
     "output_type": "stream",
     "text": [
      "<>:11: SyntaxWarning: invalid escape sequence '\\w'\n",
      "<>:11: SyntaxWarning: invalid escape sequence '\\w'\n",
      "C:\\Users\\NIKHIL JAIN\\AppData\\Local\\Temp\\ipykernel_15376\\3928385412.py:11: SyntaxWarning: invalid escape sequence '\\w'\n",
      "  w = re.findall('\\w+', file_name_data)\n"
     ]
    }
   ],
   "source": [
    "# importing regular expression\n",
    "import re\n",
    "\n",
    "# words\n",
    "w = []\n",
    "\n",
    "# reading text file\n",
    "with open('final.txt', 'r', encoding=\"utf8\") as f:\n",
    "    file_name_data = f.read()\n",
    "    file_name_data = file_name_data.lower()\n",
    "    w = re.findall('\\w+', file_name_data)\n",
    "\n",
    "# vocabulary\n",
    "main_set = set(w)\n"
   ]
  },
  {
   "cell_type": "code",
   "execution_count": 2,
   "id": "f14c99b2-df0c-4876-a8dc-213934472091",
   "metadata": {},
   "outputs": [],
   "source": [
    "# Functions to count the frequency\n",
    "# of the words in the whole text file\n",
    "\n",
    "\n",
    "def counting_words(words):\n",
    "    word_count = {}\n",
    "    for word in words:\n",
    "        if word in word_count:\n",
    "            word_count[word] += 1\n",
    "        else:\n",
    "            word_count[word] = 1\n",
    "    return word_count\n"
   ]
  },
  {
   "cell_type": "code",
   "execution_count": 3,
   "id": "43469aa7-63f5-4fe9-8063-071f282c32f0",
   "metadata": {},
   "outputs": [],
   "source": [
    "# Calculating the probability of each word\n",
    "def prob_cal(word_count_dict):\n",
    "    probs = {}\n",
    "    m = sum(word_count_dict.values())\n",
    "    for key in word_count_dict.keys():\n",
    "        probs[key] = word_count_dict[key] / m\n",
    "    return probs\n"
   ]
  },
  {
   "cell_type": "code",
   "execution_count": 4,
   "id": "eb25aa9f-fa99-45f2-bf47-fb12f86ca589",
   "metadata": {},
   "outputs": [],
   "source": [
    "# LemmWord: extracting and adding\n",
    "# root word i.e.Lemma using pattern module\n",
    "import pattern\n",
    "\n",
    "from nltk.stem import WordNetLemmatizer\n",
    "\n",
    "\n",
    "def LemmWord(word):\n",
    "    return list(lexeme(wd) for wd in word.split())[0]\n"
   ]
  },
  {
   "cell_type": "code",
   "execution_count": 5,
   "id": "96478e86-d22b-47bd-a7da-9690f546cfd4",
   "metadata": {},
   "outputs": [],
   "source": [
    "# Deleting letters from the words\n",
    "def DeleteLetter(word):\n",
    "    delete_list = []\n",
    "    split_list = []\n",
    "\n",
    "    # considering letters 0 to i then i to -1\n",
    "    # Leaving the ith letter\n",
    "    for i in range(len(word)):\n",
    "        split_list.append((word[0:i], word[i:]))\n",
    "\n",
    "    for a, b in split_list:\n",
    "        delete_list.append(a + b[1:])\n",
    "    return delete_list\n"
   ]
  },
  {
   "cell_type": "code",
   "execution_count": 6,
   "id": "4b2fe513-64fd-4029-9295-b842e8004551",
   "metadata": {},
   "outputs": [],
   "source": [
    "# Switching two letters in a word\n",
    "def Switch_(word):\n",
    "    split_list = []\n",
    "    switch_l = []\n",
    "\n",
    "    #creating pair of the words(and breaking them)\n",
    "    for i in range(len(word)):\n",
    "        split_list.append((word[0:i], word[i:]))\n",
    "    \n",
    "    #Printint the first word (i.e. a)\n",
    "    #then replacing the first and second character of b\n",
    "    switch_l = [a + b[1] + b[0] + b[2:] for a, b in split_list if len(b) >= 2]\n",
    "    return switch_l\n"
   ]
  },
  {
   "cell_type": "code",
   "execution_count": 7,
   "id": "b9c26009-15c9-4539-a1d9-40ec59619c84",
   "metadata": {},
   "outputs": [],
   "source": [
    "def Replace_(word):\n",
    "    split_l = []\n",
    "    replace_list = []\n",
    "\n",
    "    # Replacing the letter one-by-one from the list of alphs\n",
    "    for i in range(len(word)):\n",
    "        split_l.append((word[0:i], word[i:]))\n",
    "    alphs = 'abcdefghijklmnopqrstuvwxyz'\n",
    "    replace_list = [a + l + (b[1:] if len(b) > 1 else '')\n",
    "                    for a, b in split_l if b for l in alphs]\n",
    "    return replace_list\n"
   ]
  },
  {
   "cell_type": "code",
   "execution_count": 8,
   "id": "f4911c56-1684-4dad-a10b-fcc8a6283593",
   "metadata": {},
   "outputs": [],
   "source": [
    "def insert_(word):\n",
    "    split_l = []\n",
    "    insert_list = []\n",
    "\n",
    "    # Making pairs of the split words\n",
    "    for i in range(len(word) + 1):\n",
    "        split_l.append((word[0:i], word[i:]))\n",
    "\n",
    "    # Storing new words in a list\n",
    "    # But one new character at each location\n",
    "    alphs = 'abcdefghijklmnopqrstuvwxyz'\n",
    "    insert_list = [a + l + b for a, b in split_l for l in alphs]\n",
    "    return insert_list\n"
   ]
  },
  {
   "cell_type": "code",
   "execution_count": 9,
   "id": "3a7d1209-f280-4f68-997b-d1a548c45f03",
   "metadata": {},
   "outputs": [],
   "source": [
    "# Collecting all the words\n",
    "# in a set(so that no word will repeat)\n",
    "def colab_1(word, allow_switches=True):\n",
    "    colab_1 = set()\n",
    "    colab_1.update(DeleteLetter(word))\n",
    "    if allow_switches:\n",
    "        colab_1.update(Switch_(word))\n",
    "    colab_1.update(Replace_(word))\n",
    "    colab_1.update(insert_(word))\n",
    "    return colab_1\n",
    "\n",
    "# collecting words using by allowing switches\n",
    "def colab_2(word, allow_switches=True):\n",
    "    colab_2 = set()\n",
    "    edit_one = colab_1(word, allow_switches=allow_switches)\n",
    "    for w in edit_one:\n",
    "        if w:\n",
    "            edit_two = colab_1(w, allow_switches=allow_switches)\n",
    "            colab_2.update(edit_two)\n",
    "    return colab_2\n"
   ]
  },
  {
   "cell_type": "code",
   "execution_count": 10,
   "id": "2a41ab38-aed9-4e0b-af60-263ba8f8b115",
   "metadata": {},
   "outputs": [],
   "source": [
    "# Only storing those values which are in the vocab\n",
    "def get_corrections(word, probs, vocab, n=2):\n",
    "    suggested_word = []\n",
    "    best_suggestion = []\n",
    "    suggested_word = list(\n",
    "        (word in vocab and word) or colab_1(word).intersection(vocab)\n",
    "        or colab_2(word).intersection(\n",
    "            vocab))\n",
    "\n",
    "    # finding out the words with high frequencies\n",
    "    best_suggestion = [[s, probs[s]] for s in list(reversed(suggested_word))]\n",
    "    return best_suggestion\n"
   ]
  },
  {
   "cell_type": "code",
   "execution_count": 14,
   "id": "11196193-f0ce-45b3-b0c3-5f522c17b2ce",
   "metadata": {},
   "outputs": [
    {
     "name": "stdin",
     "output_type": "stream",
     "text": [
      "Enter any word: debba\n"
     ]
    },
    {
     "name": "stdout",
     "output_type": "stream",
     "text": [
      "debth\n",
      "debet\n",
      "derby\n"
     ]
    }
   ],
   "source": [
    "# Input\n",
    "my_word = input(\"Enter any word:\")\n",
    "\n",
    "# Counting word function\n",
    "word_count = counting_words(main_set)\n",
    "\n",
    "# Function to calculate word probabilities\n",
    "def probab_cal(word_count):\n",
    "    total_words = sum(word_count.values())\n",
    "    probs = {word: count/total_words for word, count in word_count.items()}\n",
    "    return probs\n",
    "\n",
    "# Calculating probability\n",
    "probs = probab_cal(word_count)\n",
    "\n",
    "# only storing correct words\n",
    "tmp_corrections = get_corrections(my_word, probs, main_set, 2)\n",
    "for i, word_prob in enumerate(tmp_corrections):\n",
    "    if(i < 3):\n",
    "        print(word_prob[0])\n",
    "    else:\n",
    "        break"
   ]
  },
  {
   "cell_type": "code",
   "execution_count": null,
   "id": "8fc8c34d-507e-4c87-8443-ee71bdf81ea9",
   "metadata": {},
   "outputs": [],
   "source": []
  },
  {
   "cell_type": "code",
   "execution_count": null,
   "id": "65810c23-bff2-4980-85f0-928ca7da226f",
   "metadata": {},
   "outputs": [],
   "source": []
  }
 ],
 "metadata": {
  "kernelspec": {
   "display_name": "Python 3 (ipykernel)",
   "language": "python",
   "name": "python3"
  },
  "language_info": {
   "codemirror_mode": {
    "name": "ipython",
    "version": 3
   },
   "file_extension": ".py",
   "mimetype": "text/x-python",
   "name": "python",
   "nbconvert_exporter": "python",
   "pygments_lexer": "ipython3",
   "version": "3.12.4"
  }
 },
 "nbformat": 4,
 "nbformat_minor": 5
}
